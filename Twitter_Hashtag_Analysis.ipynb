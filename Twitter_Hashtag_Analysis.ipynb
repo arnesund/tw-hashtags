{
 "cells": [
  {
   "cell_type": "markdown",
   "metadata": {},
   "source": [
    "# What topics are people tweeting about?\n",
    "\n",
    "## Using Apache Spark for Twitter analysis\n",
    "\n",
    "This notebook showcases analysis of data from the Twitter API in Apache Spark. The idea here is to extract hashtags used in tweets from the last week to examine which topics are most popular. It's a personalized analysis since the tweets fetched via the API are the last 40 tweets from each of the users I follow on Twitter.\n",
    "\n",
    "### Steps performed\n",
    "\n",
    "1. Authenticate to Twitter API using Tweepy\n",
    "2. Get last 40 tweets of each of the users I follow (save to MongoDB for persistence)\n",
    "3. Filter tweets with Apache Spark:\n",
    "   * Omit tweets without hashtags\n",
    "   * Omit tweets that are too old\n",
    "4. Analyze tweets with Apache Spark:\n",
    "   * Extract hashtags\n",
    "   * Do a word count\n",
    "   * Compute sample statistics\n",
    "   * Output tags for use in 3rd party word cloud software"
   ]
  },
  {
   "cell_type": "code",
   "execution_count": 1,
   "metadata": {
    "collapsed": true
   },
   "outputs": [],
   "source": [
    "# Dependencies\n",
    "import os\n",
    "import ssl\n",
    "import time\n",
    "import tweepy\n",
    "import requests\n",
    "import datetime\n",
    "\n",
    "from pprint import pprint\n",
    "from dateutil import parser\n",
    "from pymongo import MongoClient\n",
    "\n",
    "# Fix for urllib SSL InsecurePlatformWarning\n",
    "import urllib3.contrib.pyopenssl\n",
    "urllib3.contrib.pyopenssl.inject_into_urllib3()"
   ]
  },
  {
   "cell_type": "code",
   "execution_count": 2,
   "metadata": {
    "collapsed": true
   },
   "outputs": [],
   "source": [
    "# Connect to local MongoDB instance\n",
    "client = MongoClient()\n",
    "db = client['twitter']"
   ]
  },
  {
   "cell_type": "code",
   "execution_count": 6,
   "metadata": {
    "collapsed": true
   },
   "outputs": [],
   "source": [
    "# Twitter credentials (FILL IN)\n",
    "TW_CONSUMER_KEY='...'\n",
    "TW_CONSUMER_SECRET='...'\n",
    "TW_ACCESS_TOKEN='...'\n",
    "TW_ACCESS_TOKEN_SECRET='...'"
   ]
  },
  {
   "cell_type": "code",
   "execution_count": 7,
   "metadata": {
    "collapsed": false
   },
   "outputs": [],
   "source": [
    "# Authenticate to Twitter API\n",
    "auth = tweepy.OAuthHandler(TW_CONSUMER_KEY, TW_CONSUMER_SECRET)\n",
    "auth.set_access_token(TW_ACCESS_TOKEN, TW_ACCESS_TOKEN_SECRET)\n",
    "\n",
    "api = tweepy.API(auth)"
   ]
  },
  {
   "cell_type": "code",
   "execution_count": 8,
   "metadata": {
    "collapsed": false
   },
   "outputs": [],
   "source": [
    "# Get details about own user\n",
    "me = api.me()\n",
    "friends = api.friends_ids(me.id)"
   ]
  },
  {
   "cell_type": "code",
   "execution_count": 9,
   "metadata": {
    "collapsed": false
   },
   "outputs": [
    {
     "data": {
      "text/plain": [
       "[17681614,\n",
       " 3257840322L,\n",
       " 2887341,\n",
       " 348783600,\n",
       " 39229885,\n",
       " 246582746,\n",
       " 9316452,\n",
       " 372502604,\n",
       " 2401864586L,\n",
       " 235511635]"
      ]
     },
     "execution_count": 9,
     "metadata": {},
     "output_type": "execute_result"
    }
   ],
   "source": [
    "# Inspect the list of user IDs\n",
    "friends[:10]"
   ]
  },
  {
   "cell_type": "code",
   "execution_count": 22,
   "metadata": {
    "collapsed": true
   },
   "outputs": [],
   "source": [
    "# Initialize data structure\n",
    "tweets = {}"
   ]
  },
  {
   "cell_type": "code",
   "execution_count": 23,
   "metadata": {
    "collapsed": true
   },
   "outputs": [
    {
     "name": "stdout",
     "output_type": "stream",
     "text": [
      "Get recent tweets for user 3257840322...\n",
      "  Got 20 tweets so far...\n",
      "  Got 40 tweets so far...\n",
      "Get recent tweets for user 2887341...\n",
      "  Got 20 tweets so far...\n",
      "  Got 40 tweets so far...\n",
      "Get recent tweets for user 348783600...\n",
      "  Got 20 tweets so far...\n",
      "  Got 40 tweets so far...\n",
      "Get recent tweets for user 39229885...\n",
      "  Got 20 tweets so far...\n",
      "  Got 40 tweets so far...\n",
      "..."
     ]
    }
   ],
   "source": [
    "# Fetch lists of up to 40 recent tweets for each of the user IDs\n",
    "for user in friends:\n",
    "    # Only query Twitter for data not already cached\n",
    "    if db.tweets.find({'user_id': user}).count() == 0:\n",
    "        print('Get recent tweets for user {}...'.format(user))\n",
    "        tweets[user] = []\n",
    "        for page in tweepy.Cursor(api.user_timeline, id=user).pages(2):\n",
    "            tweets[user].extend(page)\n",
    "            print('  Got {} tweets so far...'.format(len(tweets[user])))\n",
    "            # API is rate limited (5 sec sleep = 180 reqs in 15 min)\n",
    "            time.sleep(5)\n",
    "        # Save each tweet to database\n",
    "        for tweet in tweets[user]:\n",
    "            db.tweets.insert_one({'user_id': user, 'tweet': tweet._json})"
   ]
  },
  {
   "cell_type": "code",
   "execution_count": 8,
   "metadata": {
    "collapsed": false
   },
   "outputs": [
    {
     "name": "stdout",
     "output_type": "stream",
     "text": [
      "14 remaining of 15 for /account/verify_credentials\n",
      "179 remaining of 180 for /users/show/:id\n",
      "14 remaining of 15 for /friends/ids\n",
      "178 remaining of 180 for /application/rate_limit_status\n"
     ]
    }
   ],
   "source": [
    "# Check Twitter API rate limit status\n",
    "def walk(node):\n",
    "    for key, item in node.items():\n",
    "        if type(item) == dict:\n",
    "            if 'remaining' not in item.keys():\n",
    "                walk(item)\n",
    "            else:\n",
    "                if item['remaining'] < item['limit']:\n",
    "                    print('{} remaining of {} for {}'.format(item['remaining'], item['limit'], key))\n",
    "\n",
    "ratelimits = api.rate_limit_status()\n",
    "walk(ratelimits)"
   ]
  },
  {
   "cell_type": "code",
   "execution_count": 27,
   "metadata": {
    "collapsed": false,
    "scrolled": true
   },
   "outputs": [
    {
     "name": "stdout",
     "output_type": "stream",
     "text": [
      "{u'contributors': None,\n",
      " u'coordinates': None,\n",
      " u'created_at': u'Sun Jul 12 19:29:09 +0000 2015',\n",
      " u'entities': {u'hashtags': [{u'indices': [75, 83], u'text': u'TurnAMC'},\n",
      "                             {u'indices': [139, 140], u'text': u'RenewTURN'}],\n",
      "               u'symbols': [],\n",
      "               u'urls': [],\n",
      "               u'user_mentions': [{u'id': 2262113536L,\n",
      "                                   u'id_str': u'2262113536',\n",
      "                                   u'indices': [3, 17],\n",
      "                                   u'name': u'J.E. Matzer',\n",
      "                                   u'screen_name': u'JeMatzerACTOR'},\n",
      "                                  {u'id': 148807607,\n",
      "                                   u'id_str': u'148807607',\n",
      "                                   u'indices': [19, 26],\n",
      "                                   u'name': u'AMC ',\n",
      "                                   u'screen_name': u'AMC_TV'},\n",
      "                                  {u'id': 1855584931,\n",
      "                                   u'id_str': u'1855584931',\n",
      "                                   u'indices': [64, 72],\n",
      "                                   u'name': u'Turn AMC ',\n",
      "                                   u'screen_name': u'TurnAMC'},\n",
      "                                  {u'id': 2801136508L,\n",
      "                                   u'id_str': u'2801136508',\n",
      "                                   u'indices': [134, 140],\n",
      "                                   u'name': u'#RenewTurn',\n",
      "                                   u'screen_name': u'TurnOnAMC'}]},\n",
      " u'favorite_count': 0,\n",
      " u'favorited': False,\n",
      " u'geo': None,\n",
      " u'id': 620313967081054208L,\n",
      " u'id_str': u'620313967081054208',\n",
      " u'in_reply_to_screen_name': None,\n",
      " u'in_reply_to_status_id': None,\n",
      " u'in_reply_to_status_id_str': None,\n",
      " u'in_reply_to_user_id': None,\n",
      " u'in_reply_to_user_id_str': None,\n",
      " u'is_quote_status': False,\n",
      " u'lang': u'en',\n",
      " u'place': None,\n",
      " u'retweet_count': 22,\n",
      " u'retweeted': False,\n",
      " u'retweeted_status': {u'contributors': None,\n",
      "                       u'coordinates': None,\n",
      "                       u'created_at': u'Thu Jul 09 11:39:32 +0000 2015',\n",
      "                       u'entities': {u'hashtags': [{u'indices': [56, 64],\n",
      "                                                    u'text': u'TurnAMC'},\n",
      "                                                   {u'indices': [126, 136],\n",
      "                                                    u'text': u'RenewTURN'}],\n",
      "                                     u'symbols': [],\n",
      "                                     u'urls': [],\n",
      "                                     u'user_mentions': [{u'id': 148807607,\n",
      "                                                         u'id_str': u'148807607',\n",
      "                                                         u'indices': [0,\n",
      "                                                                      7],\n",
      "                                                         u'name': u'AMC ',\n",
      "                                                         u'screen_name': u'AMC_TV'},\n",
      "                                                        {u'id': 1855584931,\n",
      "                                                         u'id_str': u'1855584931',\n",
      "                                                         u'indices': [45,\n",
      "                                                                      53],\n",
      "                                                         u'name': u'Turn AMC ',\n",
      "                                                         u'screen_name': u'TurnAMC'},\n",
      "                                                        {u'id': 2801136508L,\n",
      "                                                         u'id_str': u'2801136508',\n",
      "                                                         u'indices': [115,\n",
      "                                                                      125],\n",
      "                                                         u'name': u'#RenewTurn',\n",
      "                                                         u'screen_name': u'TurnOnAMC'}]},\n",
      "                       u'favorite_count': 28,\n",
      "                       u'favorited': False,\n",
      "                       u'geo': None,\n",
      "                       u'id': 619108621360734208L,\n",
      "                       u'id_str': u'619108621360734208',\n",
      "                       u'in_reply_to_screen_name': u'AMC_TV',\n",
      "                       u'in_reply_to_status_id': None,\n",
      "                       u'in_reply_to_status_id_str': None,\n",
      "                       u'in_reply_to_user_id': 148807607,\n",
      "                       u'in_reply_to_user_id_str': u'148807607',\n",
      "                       u'is_quote_status': False,\n",
      "                       u'lang': u'en',\n",
      "                       u'place': None,\n",
      "                       u'retweet_count': 22,\n",
      "                       u'retweeted': False,\n",
      "                       u'source': u'<a href=\"http://twitter.com/download/android\" rel=\"nofollow\">Twitter for Android</a>',\n",
      "                       u'text': u\"@AMC_TV Are you reading the tweets regarding @TurnAMC ? #TurnAMC fans want a Season 3 C'mon! RENEW TURN RENEW TURN @TurnOnAMC #RenewTURN\",\n",
      "                       u'truncated': False,\n",
      "                       u'user': {u'contributors_enabled': False,\n",
      "                                 u'created_at': u'Sat Jan 04 15:47:47 +0000 2014',\n",
      "                                 u'default_profile': False,\n",
      "                                 u'default_profile_image': False,\n",
      "                                 u'description': u'FILM. TV. \\n\\nThe camera sees everything.',\n",
      "                                 u'entities': {u'description': {u'urls': []},\n",
      "                                               u'url': {u'urls': [{u'display_url': u'jematzeractor.com',\n",
      "                                                                   u'expanded_url': u'http://www.jematzeractor.com/',\n",
      "                                                                   u'indices': [0,\n",
      "                                                                                22],\n",
      "                                                                   u'url': u'http://t.co/U68PsmDndj'}]}},\n",
      "                                 u'favourites_count': 3766,\n",
      "                                 u'follow_request_sent': False,\n",
      "                                 u'followers_count': 257,\n",
      "                                 u'following': False,\n",
      "                                 u'friends_count': 345,\n",
      "                                 u'geo_enabled': True,\n",
      "                                 u'has_extended_profile': False,\n",
      "                                 u'id': 2262113536L,\n",
      "                                 u'id_str': u'2262113536',\n",
      "                                 u'is_translation_enabled': False,\n",
      "                                 u'is_translator': False,\n",
      "                                 u'lang': u'en',\n",
      "                                 u'listed_count': 6,\n",
      "                                 u'location': u'Richmond, Virginia',\n",
      "                                 u'name': u'J.E. Matzer',\n",
      "                                 u'notifications': False,\n",
      "                                 u'profile_background_color': u'000000',\n",
      "                                 u'profile_background_image_url': u'http://abs.twimg.com/images/themes/theme1/bg.png',\n",
      "                                 u'profile_background_image_url_https': u'https://abs.twimg.com/images/themes/theme1/bg.png',\n",
      "                                 u'profile_background_tile': False,\n",
      "                                 u'profile_banner_url': u'https://pbs.twimg.com/profile_banners/2262113536/1430162593',\n",
      "                                 u'profile_image_url': u'http://pbs.twimg.com/profile_images/593841202807582720/-zxMhe3I_normal.jpg',\n",
      "                                 u'profile_image_url_https': u'https://pbs.twimg.com/profile_images/593841202807582720/-zxMhe3I_normal.jpg',\n",
      "                                 u'profile_link_color': u'FA743E',\n",
      "                                 u'profile_sidebar_border_color': u'000000',\n",
      "                                 u'profile_sidebar_fill_color': u'000000',\n",
      "                                 u'profile_text_color': u'000000',\n",
      "                                 u'profile_use_background_image': False,\n",
      "                                 u'protected': False,\n",
      "                                 u'screen_name': u'JeMatzerACTOR',\n",
      "                                 u'statuses_count': 3621,\n",
      "                                 u'time_zone': u'Eastern Time (US & Canada)',\n",
      "                                 u'url': u'http://t.co/U68PsmDndj',\n",
      "                                 u'utc_offset': -14400,\n",
      "                                 u'verified': False}},\n",
      " u'source': u'<a href=\"http://twitter.com/download/iphone\" rel=\"nofollow\">Twitter for iPhone</a>',\n",
      " u'text': u\"RT @JeMatzerACTOR: @AMC_TV Are you reading the tweets regarding @TurnAMC ? #TurnAMC fans want a Season 3 C'mon! RENEW TURN RENEW TURN @Turn\\u2026\",\n",
      " u'truncated': False,\n",
      " u'user': {u'contributors_enabled': False,\n",
      "           u'created_at': u'Tue Jul 26 17:33:18 +0000 2011',\n",
      "           u'default_profile': False,\n",
      "           u'default_profile_image': False,\n",
      "           u'description': u\"Welsh bloke on your Telly trying to change the world in 140 characters or less. The Mentalist, American Sniper, Extant, AMC's Turn, Supergirl, Belko Experiment\",\n",
      "           u'entities': {u'description': {u'urls': []},\n",
      "                         u'url': {u'urls': [{u'display_url': u'm.imdb.com/name/nm1466859/',\n",
      "                                             u'expanded_url': u'http://m.imdb.com/name/nm1466859/',\n",
      "                                             u'indices': [0, 22],\n",
      "                                             u'url': u'http://t.co/2DgueeEMOT'}]}},\n",
      "           u'favourites_count': 830,\n",
      "           u'follow_request_sent': False,\n",
      "           u'followers_count': 91018,\n",
      "           u'following': True,\n",
      "           u'friends_count': 816,\n",
      "           u'geo_enabled': False,\n",
      "           u'has_extended_profile': False,\n",
      "           u'id': 342845441,\n",
      "           u'id_str': u'342845441',\n",
      "           u'is_translation_enabled': False,\n",
      "           u'is_translator': False,\n",
      "           u'lang': u'en',\n",
      "           u'listed_count': 627,\n",
      "           u'location': u'Los Angeles',\n",
      "           u'name': u'Owain Yeoman',\n",
      "           u'notifications': False,\n",
      "           u'profile_background_color': u'131516',\n",
      "           u'profile_background_image_url': u'http://abs.twimg.com/images/themes/theme14/bg.gif',\n",
      "           u'profile_background_image_url_https': u'https://abs.twimg.com/images/themes/theme14/bg.gif',\n",
      "           u'profile_background_tile': True,\n",
      "           u'profile_banner_url': u'https://pbs.twimg.com/profile_banners/342845441/1434082157',\n",
      "           u'profile_image_url': u'http://pbs.twimg.com/profile_images/610701706880528384/7qYNL5qn_normal.jpg',\n",
      "           u'profile_image_url_https': u'https://pbs.twimg.com/profile_images/610701706880528384/7qYNL5qn_normal.jpg',\n",
      "           u'profile_link_color': u'009999',\n",
      "           u'profile_sidebar_border_color': u'EEEEEE',\n",
      "           u'profile_sidebar_fill_color': u'EFEFEF',\n",
      "           u'profile_text_color': u'333333',\n",
      "           u'profile_use_background_image': True,\n",
      "           u'protected': False,\n",
      "           u'screen_name': u'OYeoman',\n",
      "           u'statuses_count': 5578,\n",
      "           u'time_zone': None,\n",
      "           u'url': u'http://t.co/2DgueeEMOT',\n",
      "           u'utc_offset': None,\n",
      "           u'verified': True}}\n"
     ]
    }
   ],
   "source": [
    "# Show example of tweet object structure\n",
    "example_user = tweets.keys()[0]\n",
    "pprint(tweets[example_user][0]._json)"
   ]
  },
  {
   "cell_type": "code",
   "execution_count": 3,
   "metadata": {
    "collapsed": false
   },
   "outputs": [
    {
     "data": {
      "text/plain": [
       "24271"
      ]
     },
     "execution_count": 3,
     "metadata": {},
     "output_type": "execute_result"
    }
   ],
   "source": [
    "# Check how many tweets we got \n",
    "db.tweets.count()"
   ]
  },
  {
   "cell_type": "code",
   "execution_count": 4,
   "metadata": {
    "collapsed": true
   },
   "outputs": [],
   "source": [
    "# Filter to only get tweets from the last 7 days\n",
    "DAYS_LIMIT=7\n",
    "limit = datetime.datetime.now() - datetime.timedelta(days=DAYS_LIMIT)\n",
    "limit_unixtime = time.mktime(limit.timetuple())"
   ]
  },
  {
   "cell_type": "code",
   "execution_count": 5,
   "metadata": {
    "collapsed": true
   },
   "outputs": [],
   "source": [
    "# Extract tweets from MongoDB and load into Spark for analysis\n",
    "allTweets = []\n",
    "for doc in db.tweets.find():\n",
    "    allTweets.append(doc['tweet'])\n",
    "    \n",
    "allTweetsRDD = sc.parallelize(allTweets, 8)"
   ]
  },
  {
   "cell_type": "code",
   "execution_count": 6,
   "metadata": {
    "collapsed": false
   },
   "outputs": [],
   "source": [
    "# Filter tweets to get rid of those who either have no hashtags or are too old\n",
    "tweetsWithTagsRDD = allTweetsRDD.filter(lambda t: len(t['entities']['hashtags']) > 0)\n",
    "filteredTweetsRDD = tweetsWithTagsRDD.filter(lambda t: time.mktime(parser.parse(t['created_at']).timetuple()) > limit_unixtime)\n",
    "\n",
    "# Alternative syntax:\n",
    "#filteredTweetsRDD = (allTweetsRDD\n",
    "#                     .filter(lambda t: len(t['entities']['hashtags']) > 0)\n",
    "#                     .filter(lambda t: time.mktime(parser.parse(t['created_at']).timetuple()) > limit_unixtime)\n",
    "#                    )"
   ]
  },
  {
   "cell_type": "code",
   "execution_count": 7,
   "metadata": {
    "collapsed": false
   },
   "outputs": [
    {
     "name": "stdout",
     "output_type": "stream",
     "text": [
      "Our filtered set of tweets contains 2456 tweets from the last 7 days.\n",
      "Of a total 24271 tweets, 17150 had no hashtags. Of those who had, 4665 where too old.\n"
     ]
    }
   ],
   "source": [
    "# Get some stats (precompute the counts since they are referenced several times below)\n",
    "tweetCount = allTweetsRDD.count()\n",
    "withTagsCount = tweetsWithTagsRDD.count()\n",
    "filteredCount = filteredTweetsRDD.count()\n",
    "print('Our filtered set of tweets contains {} tweets from the last {} days.'.format(filteredCount, DAYS_LIMIT))\n",
    "print('Of a total {} tweets, {} had no hashtags. Of those who had, {} where too old.'.format(\n",
    "        tweetCount, tweetCount - withTagsCount, withTagsCount - filteredCount))"
   ]
  },
  {
   "cell_type": "code",
   "execution_count": 8,
   "metadata": {
    "collapsed": false
   },
   "outputs": [
    {
     "data": {
      "text/plain": [
       "[(u'bigdata', 114),\n",
       " (u'openstack', 92),\n",
       " (u'gophercon', 71),\n",
       " (u'machinelearning', 68),\n",
       " (u'sdn', 66),\n",
       " (u'datascience', 58),\n",
       " (u'docker', 56),\n",
       " (u'dtm', 46),\n",
       " (u'audisport', 44),\n",
       " (u'dtmzandvoort', 42),\n",
       " (u'hpc', 40),\n",
       " (u'welcomechallenges', 38),\n",
       " (u'devops', 37),\n",
       " (u'analytics', 36),\n",
       " (u'awssummit', 36),\n",
       " (u'infosec', 33),\n",
       " (u'security', 32),\n",
       " (u'openstacknow', 29),\n",
       " (u'renewturn', 29),\n",
       " (u'mobil1scgp', 28)]"
      ]
     },
     "execution_count": 8,
     "metadata": {},
     "output_type": "execute_result"
    }
   ],
   "source": [
    "# Count the number of occurrences for each hashtag, \n",
    "# by first extracting the hashtag and lowercasing it, \n",
    "# then do a standard word count with map and reduceByKey\n",
    "countsRDD = (filteredTweetsRDD\n",
    "             .flatMap(lambda tweet: [hashtag['text'].lower() for hashtag in tweet['entities']['hashtags']])\n",
    "             .map(lambda tag: (tag, 1))\n",
    "             .reduceByKey(lambda a, b: a + b)\n",
    "            )\n",
    "\n",
    "# Get the most used hashtags (order countsRDD descending by count)\n",
    "countsRDD.takeOrdered(20, lambda (key, value): -value)"
   ]
  },
  {
   "cell_type": "code",
   "execution_count": 9,
   "metadata": {
    "collapsed": false
   },
   "outputs": [
    {
     "name": "stdout",
     "output_type": "stream",
     "text": [
      "A total of 4030 hashtags gives an average number of tags per tweet at 1.64.\n"
     ]
    }
   ],
   "source": [
    "# Count the number of hashtags used\n",
    "totalHashtags = countsRDD.map(lambda (key, value): value).reduce(lambda a, b: a + b)\n",
    "\n",
    "# Compute average number of hashtags per tweet\n",
    "print('A total of {} hashtags gives an average number of tags per tweet at {}.'.format(\n",
    "    totalHashtags, round(totalHashtags/float(filteredTweetsRDD.count()), 2)))"
   ]
  },
  {
   "cell_type": "code",
   "execution_count": 10,
   "metadata": {
    "collapsed": false
   },
   "outputs": [],
   "source": [
    "# Get a list of all hashtags used\n",
    "hashtagList = (filteredTweetsRDD\n",
    "        .flatMap(lambda tweet: [hashtag['text'].lower() for hashtag in tweet['entities']['hashtags']])\n",
    "        .collect()\n",
    "        )"
   ]
  },
  {
   "cell_type": "code",
   "execution_count": 11,
   "metadata": {
    "collapsed": true
   },
   "outputs": [
    {
     "name": "stdout",
     "output_type": "stream",
     "text": [
      "artificialintelligence ai machinelearning robots technology ai artificialintelligence robotics dataanalytics digitalmarketing predictivemodeling bigdata datascience datascience algorithmic personalization bigdata analytics machinelearning ecommerce customer attention bigdata datadriven bigdata analytics datascience bigdata opendata datascience smbs security datascience machinelearning smartcities dataanalytics data coralogix bigdata reddit onlinecommunities moderation socialnetworks technology machinelearning vc datascience clickbait mobile artificialintelligence cool innovation datascience machinelearning ff followup friday bigdata iot guru machinelearning ai cloudcomputing ibm datascience scipy2015 java algorithm dataanalytics machinelearning robots 3dprinted bigdata artificialintelligence gmail news startups howto analytics interviews bigdata analytics artificialintelligence fintech finserv businessintelligence data banks bigdata machinelearning artificialintelligence neuralnetworks machinetranslation nlp hugolarochelle machinelearning artificialintelligence machinelearning cognitivecomputing ibmwatson iot bigdata datascience analistasint bigdata artificialintelligence machinelearning neuralnetwork privatecloud hybridcloud publiccloud helloworld frankfurt isc15 hpc hpccloud privatecloud baremetal qstack un awesome icml2015 machinelearning goodstuff icml2015 srebrenica greece greekcrisis rbnews vouli oxi kidsstatedinner mtwx wildfire typhoon chanhom shanghai floatselfie bestfansintheworld statisticalsignificance machinelearning probability standarderror r chisquared logistic selfstudy probability statisticalsignificance r statisticalsignificance timeseries linearmodel logistic expectedvalue regression tdistribution probability r probability r anova correlation r dunntest r hypothesistesting autocorrelation selfstudy autocorrelation standarddeviation neuralnetworks selfstudy machinelearning normaldistribution quantileregression effectsize hypothesistesting r analytics travel uk bigdata openinternet bigdata analytics analytics analytics bigdata bigdata big analytics bigdata analytics wimbledon tennis analytics bigdata flyfishing analytics bigdata analytics datascience social socialdata analytics bigdata analytics uk bigdata marketing bigdata california bigdata analytics analytics healthdata analytics data analytics bigdata analytics datascience bigdata analytics wimbledon tennis analytics bigdata flyfishing uk bigdata bigdata analytics analytics bigdata flyfishing analytics bigdata analytics analytics bigdata analytics statistics regression bigdata datascience analytics social socialdata bigdata analytics datavisualization r machinelearning machinelearning iot datamining machinelearning machinelearning machinelearning datascience ml iot python datavisualization python python machinelearning r knn machinelearning neuralnetwork ai ml nlp pandas python ai ml computervision bigdata machinelearning python datavisualization fed cisco security privacy mac wearables iot bitcoin internetofthings tech cybersecurity fbi virtualization storage malware tintri storage technology microsoft jobs storage tintri storage vmware technology mapreduce mobil1scgp mobil1scgp porsche mobil1scgp mobil1scgp mobil1scgp mobil1scgp mobil1scgp mobil1scgp mobile1scgp mobil1scgp mobil1scgp mobil1scgp mobil1scgp mobil1scgp mobil1scgp mobil1scgp mobil1scgp periscope periscope mobil1scgp mobil1scgp mobil1scgp mobil1scgp periscope porsche mobil1scgp mobil1scgp mobil1scgp mobil1scgp mobil1scgp mobil1scgp mobil1scgp mobil1scgp icml2015 machinelearning goodstuff scipy2015 datascience machinelearning neuralnetworks nlproc microsoft nokia icml2015 machinelearning datascience dlearn datascience datascience deepdream icml2015 openscience iatul2015 datascience machinelearning neuralnetwork grexit datascience grexit d3 datascience visualizaitons flipkart cybersecurity infosec data tech hackgotham nyc hacking meetup nyc hacking threatintel infosec bitcoin smarthome internetofthings iot iot datavisualization openstack osad nagios rpc iot scala java spring angularjs web programming scala iot habo java logging jvm algorithms java sql mongodb mysql nosql hacking security devops microservices devops java jvm programming nodejs nodejs mongodb bigdata bigdata mongodb mdbdays bigdata spark mongodb gophercon mongodb bigdata gophercon mongodb cfo scipy2015 scipy2015 scipy2015 openscience dataviz scipy2015 dataviz dataviz reddit opendata datascience dataviz reddit scipy2015 docker machinelearning ai bigdata datascience pivottables python bigdata aws awssummit awssummit coding programming python algorithms github montypython spark streaming devops ec2 ansible docker microservices akkacluster conductr chicago trump sparkstreaming united oreillysacon chicago opensource infosec security datascience tech datascience tech cartoon humour haveagreatweekend datascience tech hacks infosec security infosec security machinelearning apis bigdata machinelearning ai datascience datascience datascientist tech bigdata tech data bigdata analytics bigdata bigdata opines datascience entrepreneurship goodmorning tgif bigdata tech data bigdata tech data devops devs devops devs devops devs datascience tech datascience tech bigdata tech bigdata tech infosec security datascience tech machinelearning bigdata datascience clojure python datascience toyplot python machinelearning datascience rstats bigdata analytics r spark bigdata datascience innovation innovation datascience bigdata datascience innovation machinelearning proficionl bigdata machinelearning innovation bigdata bigdata machinelearning datascience machinelearning bigdata datascience innovation machinelearning innovation datascience datascience innovation bigdata bigdata datascience datascience innovation datascience bigdata innovation datascience machinelearning innovation machinelearning datascience bigdata innovation datascience machinelearning bigdata bigdata innovation deeplearning machinelearning innovation bigdata machinelearning machinelearning innovation dataviz datascience bigdata bigdata machinelearning datascience machinelearning innovation bigdata saas datascience datascience bigdata data productdesign rant feedback inbound marketing b2b data analytics ecommerce sfmda innovationslab interdisciplinaryapproaches seanellis universityofmichigan mitchelllevy gaganbiyani thomsonreuters sinewaveventures camillelauer semanticturkey timhentschel clivejacobs iotthinkworx iotupfront gearceo johnlee capitaliq commoditysystems neitheryahoo catechnologies travelweb topbraidcomposer dataweb semanticweb semanticengines yahoodirectory knowledgegraph location3media page1solutions specialissue naturallanguageprocessing worldwideweb socialweb artificialintelligence intelcorporation jimmiechang professorgann whitecity dnaelectronics whitecitycampus datamining neuralnetworks exploratorydataanalysis statisticadataminer knowledgeacquisition sramanamitra jacknorris apachespark jsondocuments descriptionlogic knowledgerepresentation march3rd sparkcluster mongohadoopapi nounproject reidhoffman seanellis bigdata structuredquerylanguage relationaldbs keyvaluepair stackoverflow deeplearning machinelearning ai machinelearning deeplearning machinelearning ai bigdata hadoop machinelearning analytics machinelearning datascience hadoop bigdata machinelearning pydata machinelearning tez bigdata hadoop machinelearning digital strategy growthhacking machinelearning growthhacking machinelearning hadoop bigdata bisum hadoop bigdata bisum growthhacking machinelearning growthhacking machinelearning hadoop bigdata hadoop bisum bigdata hadoop bisum bigdata machinelearning api machinelearning datascience machinelearning hadoop bigdata machinelearning deeplearning datascience machinelearning deeplearning datascience machinelearning bigdata mapreduce hadoop machinelearning ai deeplearning machinelearning bigdata mapreduce hadoop machinelearning hadoop bigdata machinelearning superworkplace startuplife startup nowprofiling superworkplace startuplife buildinbombay aua superworkplace superworkplace nowprofiling superworkplace startuplife nowprofiling superworkplace startuplife nowprofiling photobombing googledoodle nowprofiling spottheceo superworkplace nowprofiling superworkplace startuplife bengaluru startups superworkplace c programmerhumor javascript developers coder programming developer privacy encryption software viadeo carrière webdesign reddit hacking hacked website es6 javascript marketing marketing marketing marketing content content marketers content marketing blogs marketers seo cms markdown gsaw harperlee deadraccoonto bitcoin nyse fox cisco aci apic adc cloud aci adc sdn throwbackthursday thecube awssummit techathlete ciscoaci ciscodc container openstack vmware container devops cisco eurogroup codecon weekendproject raspberrypi cmgrhangout rhsummit ceph founderbliss batchery startuplife entrepreneurs startup job unlockedappliances bigdata cloud openstack job podcast packetlove podcast podcast podcast podcast nyse fox demonsaw defcon privacy linux p2p moving nyc storage newyork apple norsis openssl norcertvarsel openssl wikileaks norcertvarsel apple security amazon ghostshell rowhammer rnli openssl memories gophercon github google cloud cybersecurity infosec digital data employee iot shodan awssummit byod morpho cybersecurity infosec mozilla firefox it cybersecurity cybersecurity infosecanalytics cybersecurity openstack neutron alterconf slack keenio yerdle startupswag juno sdn nfv virtualization gfy ttb fhp ttb tubestrikes js graph visualization infosec juniper nope python django juniper openssl jnprtech15 golang infosec jnprtech15 telecom automation jnprtech15 juno sdn nfv automation jnprtech15 openstack ux netops netdevops netops netdevops automation vmx jnprtech15 fastnetmon automation jnprtech15 aws cloud awssummit awssummit aws nyc awssummit awssummit enterprise nyc sc60 pluto security iot wearables hacking infosec wtvox springdata neo4j sdn springboot actuator datascience swisspier aws awssummit openstack dockercon sfsesummit bestjobieverhad sfsesummit sfsesummit sfsesummit openstack openstack virtualdesignmaster gophercon mesos kubernetes survival ocbm beermonth gophercon golang gophercon golang gophercon golang openstack liveperson openstackil openstack docker nacoann bigdata aws awssummit aws awssummit awssummit aws awssummit awssummit awssummit aws awssummit aws awssummit aws awssummit saas aws awssummit aws aws awscertified awscertified awssummit awssummit startupspotlight isc15 bigdata aws awssummit containers oscon oscon dockercon dockercon dockercon awssummit nginx openstack openstack thanksall openstack mesos openstack ossfo platform9sys kubecon openstack openstack5bday openstack platform9sys openstack openstack docker golang docker docker youdthink docker jnprambassador askanambassador bagelops not_the_window_you_are_looking_for obxmorandini codelife soundcloud twbscolor etsy sale handmade dolls gifts summer devops dockerweekly docker microservices containers docker makesmesad again docker networking docker devops docker networking docker devops dockerweekly dockerswarm dockercompose devopsdays msp docker iot snappy devopsdays tuscany mamiyac330 fujireala istillshoot hackingteam microservices containers docker deepdream atc15 openstack osad nagios rpc python django ipython kivy docker flask pygame job opbeat raspberrypi pandas grasslandsnp exploresask scipy2015 scipy2015 python machinelearning exploresask explorecanada hackingteam devopsdays gcpnext bigquery googlecloud appengine gsf2015 android cloud kubernetes bigquery vodgeball plutoflyby portland unlockedappliances openstack unlockedappliance openstacknow openstacknow openstacknow openstacknow openstacknow openstacknow openstacknow openstacknow openstacknow openstacknow openstacknow openstacknow openstacknow openstacknow openstacknow openstacknow openstacknow openstacknow openstacknow openstacknow openstacknow openstacknow justpoweron openstacknow openstacknow openstacknow openstacknow openstacknow openstacknow openstacknow plutoflyby taxidriver starwars rustlang chicago opensource ff startup agile aws awsloft hugops devops awsloft devops chefsummit devops opensource aws devops awsloft devops opensource devops awssummit cheffriends devopsdays devops awssummit chefsummit chefsummit devops opensource devops devopsdays solskogen demoparty demoscene solskogen solskogen2015 gophercon gophercon2014 gophercon2015 kubernetes kubernetes gophercon gopher gophercon mesos kubernetes selinux golang gophercon truth gophercon gophercon gophercon gophercon gophercon gophercon gophercon gophercon gophercon thismakestotalsense needmorecharecters devopsdays devopsdays devopsdays devopsdays devopsdays devopsdays catpicturesasaservice devopsdays dockerdockerdocker gophercon devopsdays cyberattack network crn network security cyberattack network firewalls apple network security breaches networkecurity security ingfw attacks firewalls apple uswnt pdx kubernetes mesosphere apollo capgemini dcosweek gophercon nextlondontrip docker geometry space art nature astronomy different creation views docker womenintech usavhon opensdn docker awssummit openstack openstack openzfs zfs nfv sdn sdn bhyve freebsd bhyve freebsd aws fb stabbythursday ietf top500 isc15 hpc isc15 isc15 supercomputing isc15 hpc hpc hpc isc15 isc16 hpc isc15 hpc isc15 hpc top500 gophercon gophercon gophercon moveforward gophercon docker rails docker microservices docker docker docker container docker rails docker gophercon containers devnation storyboards fredericrebena bd illustration art gophercon golang compose devops scipy2015 accessibility scipy2015 microservices containers docker golang docker treeptik cloudweek rmll2015 why golang garbage gophercon golang golang gophercon golang gophercon gophercon golang golang gophercon gophercon golang gophercon golang gophercon gophercon golang appengine golang golang golang china gophercon gophercon fisl16 gophercon go gophercon gophercon goperhcon gophercon gophercon gophercon coreos gophercon gophercon go gophercon gophercon gophercon gophercon gophercon gopherconorbust gophercon coreos gophercon fisl16 database container docker dockerweekly mongodb dockerweekly containers dockerweekly docker dockerweekly mac vagrant docker container docker dockerweekly dockerweekly dockercompose docker dockerswarm dockercompose microservices containers docker dockerweekly docker deployment dockerweekly container dockerweekly docker dockercon docker devops docker containers gophercon hackday dockerweekly docker golang docker contributor dockercon gophercon hackday dockerweekly gophercon dockerweekly dockerswarm dockercompose dockercon dockercon dockerweekly containers docker dockerweekly docker dockerhub projectorca dockercon dockerweekly containers docker raspberrypi awssummit dockerweekly datascience docker gophers docker getcontained gophercon dockercon docker go gophercon golang dockerlondon plutoflyby gophercon opensource gophercon golang wpc15 gold silver yyc panam2015 virtualdesignmaster vdm virtualdesignmaster virtualdesignmaster virtualdesignmaster virtualdesignmaster vdm openstack virtualdesignmaster vdm free it job paloalto hiring cloudcred vbrownbag devops vmware vexpert vbrownbag wow jobs careers good good stuff vmware vexpert vbrownbag cloud ciscocloud virtualdesignmaster win virtualdesignmaster moleskine rt cmgr cmad digitalsrategy socialmedia shareologists day9 advocatemktg job intercloud shareology twitter ceo describetwitterin3words techacutie womenintech ff comiccon2015 girlsintech techgirlsuk stem ff ff digitaldisruption 9dejulio ciscodigital h2hchat h2h h2hchat ciscodigital digitalmarketing ciscodigital h2hchat wearecisco ciscorocks askanambassador juniper juniperunboxed jnprambassador askanambassador askanambassador telcos juniper idea2design askanambassador networkscavengerhunt cybersecurity hackonomics networkscavengerhunt limepodcast socialselling networksthatknow cybersecurity juniper hackonomics askanambassador junoscup14 jnprtech15 networkscavengerhunt iot m2m iot telecom qfx5100 junos gtec askanambassador netwokscavengerhunt idea2design hackonomics ddos allbusiness fortiap voices iiot networking servers esxi5 server2012r2 ishouldbesleeping rsac fortiexpress calgaryzoo rsac rsac wifi ictf15 batmanvsuperman nutanix netscaler microsoft netscaler netsaler citrix netscaler microsoft ata microsoft lifeisbetterwitharchitect nutanix nexttour vmware azure microsoft vexpert firepower cisco nfv kvm clus openstack incompetent donotdumbhere cisco psirt iot cisco netconf yang python docker bhusa warringah northernbeaches winter deewhy uswnt wwc2015 uswnt usavsjpn uswnt usavjpn tweetyoursummerinapicture amazingstairs amazingstairs protocolcelebs gladsomenspeleman rickardssommarkväll nkschaken nkschaken nkschaken strategy chess barnyard infosec hacking infosec infosec hacking siem ids snort suricata infosec syslog infosec hacking healthcare financial healthit hospitals medical infosec fedit ids infosec infosec hacking ids retailers retailers smbs infosec hacking retailers infosec highered highered infosec eduit education university infosec hacking smbs bank financial compliance banks infosec financial snort suricata healthcare hospitals healthit infosec infosec hacking chesscommunity dailypuzzle chesstv bulletbrawl chesstv chesstv dailypuzzle chesstv chesstv chesstv titledtuesday dailypuzzle chesstv chesstv chesstv norwaychess sjakknm sjakknm 2sjakk sjakknm norwegian sjakknm sjakknm sjakknm nrk3 sjakknm chess sjakknm 2sjakk sjakknm sjakknm sjakknm 2sjakk sjakknm sjakknm sjakknm sjakknm chess sjakknm chess photo greece oxi openstack openstack sdn openflow awssummit swiftstack emc opensource sds sddc c9d9 glance not fightfor15 kickass cloudfoundry cloudfoundry cloud paas lostabet openstack neutron openstack openstack openstack openstack openstack openstack neutron fatherhood worthit openstack theirongiant sdcc signatureedition rerelease dreamcompute dreamcompute evlife openstack austin uswnt usmnt openstack openstack docker openstack plumgrid openstack plumgrid openstack plumgrid openstack plumgrid plumgrid openstack openstack plumgrid plumgrid openstack docker openstack openstack canonical plumgrid openstack plumgrid openstack plumgrid openstack plumgrid openstack plumgrid plumgrid openstack plumgrid openstack plumgrid plumgrid openstack plumgrid plumgrid openstack docker openstack plumgrid plumgrid openstack plumgrid swisscom plumgrid openstack swisscom plumgrid docker openstack openstack plumgrid plumgrid uswnt aws aws awssummit awssummit awssummit awssummit awssummit awsloft aws awsloft devopsdays juno sdn nfv motorheadforlife evolve15 aem donotmiss devops api docker containers microservices nevertellhansolotheodds openstack openstack openstack openstack swiftstack openstack openstack troveday2015 openstack openstack openstacksv openstack bday community milan openstack openstack openstack openstack odsummit sdwan sdn gartnerresearch sdncasestudy sdn openstack docker ironic networkproviders itpt odsummit sdn sdn sdn nuagenetworks sdn onug sdwan sdn greenenergy container lithium sdn ethernet sdn devops interop womenintech sdn sdn nfv sdn iot apps ipv6 gophercon gophercon gophercon rarefashion gophercon united gophercon gophercon gophercon golang gophercon gophercon ttp sdn sdn nfv virtualization cloud nfv sdn sdn smartcities sdn opensource it sdn opensource sdn onf smartcities datacenter it sdn opensource enterprise it mullet onf bio smartcities sdn wifi openflow sdn open networks eetimes sdn bigcloudfabric networkautomation sdn steelcentral bsnlabs opennetworking sdn openstack appmonitoring bigcloudfabric bigtap bsnlabs sdn opennetworking openstack ons2015 opensdn sdn opensdn opensdn opensdn odsummit odsummit lithium odsummit odsummit opensdn odsummit opensdn lithium opensdn odsummit linuxcon opensdn opensdn odsummit2015 regonline odsummit radio lithium opensdn elms brocade sdn telecom windriver usecases virtualized it sdn usecases telecom windriver devops security odsummit devops cisco microsoft cloud sdn sdn nfv brocade sdn nfv sdn nfv virtualized gateway devops nfv orchestration sdn sdwan vcpe network brocade sdn nfv sdn vcx monitoring whitebox msactivator sdn apps cloud sdn nfv lso architecture sdn sdn sdn sdn nfv brocade cisco microsoft cloud telecom windriver bigdata virtualized architecture sdn lso devops nfv lso sdn openstack cisco demofriday sdn xss checkitout flaw checkitout openssl xss bugbounty wafbypass logcamouflage xss fake logcamouflage lamer dontknowme xss sdn nfv greatfuldead onedirection levisstadium brocade sdn newip newip cloud sdn nfv newip newip software nfv sdn nfv mobile sdn blackfriday cybermonday ibmz cloud cloud govit nfv newip cio newip cloud sdn bigdata tdf2015 iot cloud sdn newip nfv cloud dokku mean kubernetes scipy2015 gophercon django python celery redis juniper devops netops netdevops netops netdevops python programming canto2015 ianasteward icann arin36 apps ipv6 ipv6 ipv4 exhaustedguy ipv6 iana get6 ipv4 internet ipv6 dc igfusa mobile internet get6 ipv6 bat2015 bali airventure osh15 bali mtraung ecodemonstrator qf12 mtraung osh15 cape2cape periscope cape2cape cape2cape bali caturday funfact photo photo openstack openstack openstack openstack5bday openstack5bday openstack openstack5bday swiftstack openstack openstack5bday ubuntuhour ubuntuhour debian ubuntuhour debian ubuntuhour debian openstack ghc15 neverforget catnips catnips tunisia logstash elasticwatcher elasticsearch elasticsearch floss elasticsearch logstash kibana logstash elasticwatcher elasticsearch logstash kibana elasticbeats portland elk found elasticsearch elasticsearch elasticsearch elasticsearch jfs2015 elasticsearch elasticsearch lucene elasticsearch puppet elasticsearch elasticsearch logstash kibana elastic theweekendsnotoveryet motorsport elms 4hredbullring seeyouatthebaggagebelt redbullring noexcuseforeverbeinglate 4hredbullring elms ligierjs lmp2 wec6hspa lmp2 bestwishes spirit elms redbullring programoftheday 4hredbullring nicelivery wec onthemove lemans fire exclusive lmp1 keeppushing tourdewec wec fridayfeeling ff audi audi zandvoort dtm dtmzandvoort dtm dtm dtmzandvoort dtmzandvoort townsville dtm audi dtm audisport dtm dtmzandvoort welcomechallenges audi dtm dtm ctscc dtmzandvoort dtmzandvoort dtm raceday audi motorsport gt3 townsville australiangt townsville repost audi 4000s quattro rotiform indt toobig need16 scribddocs repost projectb85allroad audi fashiontech seek b9a4 audi a4 allroad projectb85allroad repost repost enlaes repost repost rs7 audi china quattro sline audia6 audiexclusive audiexclusive wantanr8 audi autonomousvehicles audia7 periscope ihope audi r8 r8 periscope sayfie periscope atlanta foodie pecatl porschemacan britishgt teamamr teamamr lemans lemans lemans lm24 lemans lemans lm24 spiritoflemans picoftheday lemans lemans lemans lm24 lemans lm24 lemans lemans lm24 lemans lemans lm24 lemans lemans lemans lemans lm24 lemans lm24 wec 6hnurburgring tbt f1 wecforfree 6hnurburgring win tmginside lm24 audisport dtm welcomechallenges audi audisport wec welcomechallenges audisport wec welcomechallenges audi audisport dtm dtmzandvoort welcomechallenges audisport dtm dtmzandvoort welcomechallenges audi audisport gt3 welcomechallenges audi audisport dtm dtmzandvoort audi audisport dtm dtmzandvoort welcomechallenges audisport dtm dtmzandvoort periscope audisport dtm dtmzandvoort welcomechalleng audisport dtm dtmzandvoort welcomechallenges audisport dtm dtmzandvoort welcomechallenges audisport dtm dtmzandvoort welcomechallenges audisport dtm dtmzandvoort welcomechallenges audisport dtm dtmzandvoort welcomechallenges audisport dtm dtmzandvoort welcomechallenges audisport dtm dtmzandvoort welcomechallenges audisport dtm dtmzandvoort welcomechallenges audisport dtm dtmzandvoort welcomechallenges audisport dtm dtmzandvoort welcomechallenges audisport dtm dtmzandvoort welcomechallenges audisport dtm dtmzandvoort welcomechallenges audisport dtm dtmzandvoort welcomechallenges audisport dtm dtmzandvoort welcomechallenges audisport dtm dtmzandvoort welcomechallenges audisport dtm dtmzandvoort welcomechallenges audisport dtm dtmzandvoort welcomechallenges audisport dtm dtmzandvoort welcomechallenges audisport dtm dtmzandvoort welcomechallenges audisport dtm dtmzandvoort welcomechallenges audisport dtm dtmzandvoort welcomechallenges audisport dtm dtmzandvoort welcomechallenges audisport dtm dtmzandvoort welcomechallenges audisport dtm dtmzandvoort welcomechallenges audisport dtm dtmzandvoort welcomechallenges audisport dtm dtmzandvoort welcomechallenges audisport dtm dtmzandvoort welcomechallenges audisport dtm dtmzandvoort welcomechallenges audisport dtm dtmzandvoort welcomechallenges audisport dtm dtmzandvoort welcomechallenges audi audi audi audisport wec gt3 audi audi audisport wec gt3 audi audisport wec pluto openstack keeptheban green energy openstack cugrads15 openstack ansible openstack curryon greferendum cosytech bam msbts biztalk apm lifechanger bitcoin deeplearning deeplearning deeplearning machinelearning ux dob dateofbirth sundance knxspotlight ftf2015 hackingteamtransparencyreport netragard hackingteam infosec multiply multiplyibiza bpmdebut bpm multiplyibiza upstart airbus atx austin sunset devopsdays docker devops dtrace longhorns geekshirtfriday aws awsloft openstacktage openstack devops openstack openstack techlebrity openstack podcast dbaas donehere openssl bos tchat kubernetes opencrowbar openstack docker zdnet fud fb summerlove klikk ps4share leviathanwakes sdcc wimbledon grexit grexit grexit gatekunst businessstatesmanship csr protip twitterhjelp hackingteam android security hacking security xbox zeroday hacking security tech security whatsapp security privacy thepiratebay torrent g4hwebcast ios android whatsapp security security whatsapp security privacy computer hackingteam shit twitter mustread usebackbuttoncarefully openssl ssl security hackingteam hacking security technology technology openssl zeroday security openssl vmware vsan nsx sddc thedreamteam nsx cloud security trøndelag nytdetmensdukan sommerdag nordland troms nordland troms finnmark trøndelag sommer sunnmøre sognogfjordane svalbard sol vestlandetsørforstad trøndelag troms nordland tromsø vihåperpåflere tromsø troms rogaland akerhus troms knallvær vestlandetsørforstad nordnorge sommerdag troms finnmark østafjells østlandet troms vestfinnmark lofoten vestlandetsørforstad oslo fjelletisørnorge ofoten helgeland sørnorge geomatikk åpnedata comiccon batmanvsuperman comiccon comiccon batmanvsuperman comicon2015 ffnor ffnor space science mars earth politiet politinorge rasisme ello lhbt mokki spotify søndagsmiddag infosec humor infosec eidsvollsbygningen ironi irony infosec humor ironi infosechumor infosechumor kryptering hundeeier ff whenwillieverlearn humor opm opmhack opmhack infosec infosec opsec 2tdf cyberweapontest infosec toppservice vdi hyperconvergence flash storage sdn storage wireless lan hybrid cloud cloud security atc15 flash performance roi server sprawl usenix sdn dns sdn devops bigdata itjobs itsalaries sdn virtualization interop womenintech genomics bd2k clinicaldata genomics bd2k clinicaldata bigdata genomics bd2k clinicaldata chinabigdata opmhack bigdata pla deeplearning bigdata hadoop apis microservices devops mashape nih bigdata chinabigdata opmhack bigdata pla bigdata hadoop apis microservices devops mashape deeplearning hadoop apis microservices devops mashape caspida bigdata bigdata bigdata bigdata apachekafka apachekafka bigdata streamingdata bigdata hadoop bigdata bigdata datasoftware bdsoftware ovum bigdata datasoftware ovum bdsoftware bigdata bigdata datasoftware ovum bdsoftware bigdata aws bigdata bigdata bigdata cascading hadoop ai airisk bigdata bigdata hadoop devops ai airisk ibm hpc supercomputer hpc hpc isc hpc hpc nyse supercomputer hpc ssd hpc infiniband supercomputer hpc jsc hpc infiniband hpc hpc hpc servers isc server hpc server cloud servers hpc hpc isc firepro gpu hpc hpc arm supercomputing hpc hpc hpc arm storage systems hpc hpc isc hpc supercomputing hpc hpc arm hpc hpc 2lazy2clean sunsetlegacyprotocol ipv6 get6 youarewelcome powershell ipv6 internet get6 get6 get6 sysadmin helpdesk ipv6 lion løve dyreparken greece docker woooo oss openstack devopsdays embriq utdrikningslag nrksport nrksport drammenstidende livetsparadokser cybercrime computerscience certifications android iphone ad programmingwisdom jinja2 grandpaspeaks shutter yupitslikethat wtf todayinhistory uswnt geekspeak systems awssummit awssummit royalpingdom uswnt wimbledon sdcc ufc189 appstoreoffers freeappoftheweek sharkweek overdiagnostisering montreal aci riddle daerdetsommer riddle dax18 sosent classicjokefriday throwbackthursday tbt yourewelcomewednesday mondaymotivation uswnt uswnt uswnt usavjpn webinar mathquote turnamc renewturn renewturn weloveowain supergirl thebelkoexperiment petersafran weloveowain renewturn horsewantss3 fellfilm weloveowain renewturn weloveowain renewturn renewturn weloveowain supergirl welovearnold weloveowain turnamc renewturn weloveowain turnamc renewturn renewturn weloveowain weloveowain renewturn weloveowain renewturn weloveowain weloveowain welovearnold renewturn weloveowain renewturn weloveowain renewturn weloveowain renewturn renewturn weloveowain renewturn renewturn weloveowain renewturn weloveowain renewturn weloveowain renewturn weloveowain renewturn renewturn renewturn renewturn renewturn wife beauty sexymommy weloveowain renewturn onthisday renewturn weloveowain renewturn weloveowain weloveowain weloveowain lazyweb joetv heil fml bitcoin bitcoin ibeacon norway whyoslo applemusic spotify tidal streaming music thetwenty liveoddsen oddsen wimbledonfinal liveoddsen oddsen tdf2015 langoddsen oddsen tdf2015 joker lotto telefonenfrahamar oddsen tdf2015 oddsen tdf2015 nabolaget nabolaget nabolaget nabolaget nabolaget nabolaget extra oddsen tdf2015 extra oddsen oddsen oddsen tdf2015 oddsen premiedryss rocketleague gaming windows ios9 ipad applenews arsinbrazil wimbledon upstart30 skjemtegauk vigra ålesund sas standup standup facepalm godtspråk stjernestøv godt_språk livsvisdom tilettertanke meta livsvisdom tilettertanke livsvisdom srebrenica expo2015 expo2015 expo2015 expo2015 euexpo2015 expo2015 eponttip ttip datacenters datacenters disasterrecovery epicfail strongwomen greatsoccer teamusa bigdata infographics analytics datascience tech ff sap isc15 hpc bigdata bigdata tbt isc15 pressrelease saphana isc15 hpc uv usegalaxy usegalaxy techtuesday isc15 hpc uv sccamp15 motivationmonday bosc2015 ohwait ismb ismb15 ismbeccb ismbeccb15 ismb2015 ismbeccb2015 bioinformatics slurm htc hpc hpc nyse cloud ctfo reversedns gamescourse nrk pluto pluto pluto pluto plutovake pluto plutovake aphelium morellfestivalen truth vmworld vbacon champions ducks dropallthemics thankyou nomzenvy cloudbunnies4life v0dgeball solidfire sesummit kidding redeyeblues notimewasted innocenteyes feartheears v0dgeball heil minecraft ironmaiden herremote slottsfjell deutschland83 itunesus to2015 review quotw nce2015 gochina ft gochina hannibal sdcc15 sdcc sdcc15 newhorizons newcastle greece greekcrisis airbus worldcup venezuela iotchat iotchat opmhack ideation piketty greekcrisis germany france uk starwars starwarsfanart thearcanum comic_con treyusa treyusa mega photo usa treyusa periscope treyusa ashes checkurfacts caregivers love symlink vfd5 goodread symlink symlink vfd5 symlink symlink symlink symlink symlink symlink vfd5 symlink goodread symlink symlink symlink symlink symlink sfd8 symlink symlink symlink symlink goodread nfd10 rokudoes getwiththetimes wimbledonfinal davidbeckham rente boliglån vipps neverhappen devops greece privacy genocide casper confederateflag grexit cia whistleblower happyending betalest betalest karma ff awssummit olddog wecode oscon puppethack r10k puppetize cavsnation cityilove questforaring doesthismakemefeelsafe dailyfantasy fantasyjustgotreal usawomenssoccer chromecast chrometip ux design describetwitterin3words del40al1cocacola dontworry shine letloose thatshowuknowufuckedup gumball3000tour dontworry dontworry marshmelloweatingconpetitionontheair congestion askanambassador jelly clus airheadsconf wifitrek befearless wirelesswednesday wirelesswednesday wirelesswednesday wirelesswednesday wirelesswednesday wirelesswednesday wlan wifi techfieldday justsayin wlan wifi lol earnedit clus ciscocert ccna ccnp ciscolearningnetworktalk ciscocert ciscolearningnetworktalk ciscocert ciscocert icnd1 icnd2 ccna route switch tshoot ccna cloud industrial ciscocert ccna cloud ccna ccnp data internetofthings iot getwomencertified ccna ccnp reportit data ciscocert getwomencertified clus ccna ciscocert earnedit ciscocert success ciscocert itcareers ciscocert icomm15 internetgovernance icomm15 ripe71 cpp ipv6 dids2015 friday funny fridayfeeling fridayfun sharkweek nonewcontent dmvpn ipsec ospf cisco route ccnp networking sdn cisco ccnp ccie datacenter cisco nxos ciscochampion clus clus sysadminday netriders networking ciscopress netblogs ccie ccie security cisco dfwcug cug ccna cicd cisco smartnet network srebrenica croatiaforum croatia nato cf2015 hellas rip oreothins delicious wimbledon2015 mrselfridge paris berlin stelvio kampenfortilværelsen kampenfortilværelsen kampenfortilværelsen kampenfortilværelsen riget kampenfortilværelsen ektekvalitet kunsttv describetwitterin3words lightsaber sharkweek fifawwc usa dougstanhope dagsavisen herstory narvesen nrk jentegreie spiseforstyrrelser merkel hellas roskildefestival esports microsoft apple windows10 encryption yro security gopro sikkerhet samsung microsoft samsung windows10 crypto security yro linux apple uber ice 4g lte autosys periscope forhandlinger edusummitoslo dagsrevyen edusummitoslo edusummitoslo osloedusummit fn bankimoon edusummitoslo obamacare bestfansintheworld uswntparade ofaction loveislove loveislove obamacare fixovertime shebelieves fixovertime actonclimate fixovertime fixovertime vanillaice goninjago minecraft upgraderequired upgraderequired upgraderequired upgraderequired upgraderequired morningface darthbreakfast minecon minecon minecon stargates mojangers bummber noagenda lssc lssc nyse lssc lssc lssc lssc cantfinditgrindit globalcitizen globalcitizen globalcitizen chrismartin oxfamindia jazzpunk monsterstyle monsterstyle xmenapocalypse sdcc conancon sdcc conancon conan sdcc conancon conan sdcc conancon conan jenniferlawrence sdcc conancon mockingjaypart2 jlaw conancon sdcc sdcc conanconduo sdcc conancon conancon sdcc conancon sdcc conancon sdcc phenomenal southpaw southpaw phenomenal conman alaskaplanepull schematics smallworld vineman dreamforce df15 it bigdata internetofthings longreads bredbånd nextgentel united truth travelskills caffeine virl virl virl virl freshair plutoflyby pluto newmedia mediafail nfd10 dadlife cyberwar couldntresist sdcc cnnireport jointhehunt cnnsotu greecebailout greekcrisis deathrowstories sdcc billmurray cnnireport starwars sdcc cnnireport jointhehunt cnnstylefuture cairo wimbledon wimbledon wimbledon wimbledon greekcrisis wimbledon wimbledon woot nikeplus dontdothat dontdox 2tdf hero4session redbull 2tdf 2tdf datacentre datacenter sanfrancisco ipv6 design marketing marketingtips data programmatic marketingtips marketingtips socialmedia marketing marketingtips growthhacking marketingtips abtesting dctech audiencetargeting marketingtips contentmarketing marketingtips growthhacking contentmarketing data programmatic marketing dctech a10 useyourinsidevoice ick nothelping openbsd libressl beeroclock cyberwar imnotevensupposedtobehere ccie hackingteam clus ttb sdn oslo art sculpture oslo teamhartvig skibeforeyouwalk oslo oslo food museums oslo visitoslo norway ttot wanderlust summer visitoslo ttot oslo norway oslo norway weekendbreak travel oslo norway ftfs summer bike wanderlust norway summer visitoslo reflection visitoslo ipv6 dns tech dns tech outage dns sharkweek dns tech dns tech dns dns tech 28characters sdcc groovy selfabuse analytics rock digitaldisruption ioe digitaltransformation ioe itpro sysadminday tbt sysadmin itpro infotech datachat datachat sqlserver datachat sysadmins sysadminday thwackcamp thwackcamp thwack networking npm orion sam sysadminsquares vsphere hyperv containers microservices fabrics itversatilist sysadminday wimbledon theashes philosophy ashes cleur cleur cleur cleur smartphone cleur cleur hackingteam justask okgoogle wimbledon2015 chromecast chrometip yosemitestreetview gsf2015 androidone uswnt wwc2015 morethanamatch wwc2015 morethanamatch okgoogle sosiolekt funfact macprotip hackingteam thingsididwhenmrtwasdown adblock periscope periscope wceu edtech 10forfredag musikktips musikktips wifimoney dontcareamfabulous thanksall quickhits amazing netappflash uswomensopen breaking netappflash netappit oil 2a ontap netappit cdot netappit ontap 10daystogo theopen usavjpn gaza syntagma oxi dimopsifisma gaza1yearon gaza 50days4gaza greece merkel germany grexit euro drachma greekreferendum eu finance financiers eurasianunion brics gaza hellas søvn vipps mikroretrotweetupburgerlunsj tesla smartphone germany kitzingen applewatch mintittelvarbedreenndeskenvårsin aci security network aci security ciscoit ciscoitm security aci millennials ciscoitm millennial ciscoitm\n"
     ]
    }
   ],
   "source": [
    "# Print the list to use as input in word cloud software\n",
    "print(' '.join(hashtagList))"
   ]
  }
 ],
 "metadata": {
  "kernelspec": {
   "display_name": "Python 2",
   "language": "python",
   "name": "python2"
  },
  "language_info": {
   "codemirror_mode": {
    "name": "ipython",
    "version": 2
   },
   "file_extension": ".py",
   "mimetype": "text/x-python",
   "name": "python",
   "nbconvert_exporter": "python",
   "pygments_lexer": "ipython2",
   "version": "2.7.6"
  }
 },
 "nbformat": 4,
 "nbformat_minor": 0
}
